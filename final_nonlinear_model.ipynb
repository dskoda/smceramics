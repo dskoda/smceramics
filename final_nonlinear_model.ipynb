{
 "cells": [
  {
   "cell_type": "code",
   "execution_count": 3,
   "metadata": {},
   "outputs": [
    {
     "name": "stdout",
     "output_type": "stream",
     "text": [
      "The autoreload extension is already loaded. To reload it, use:\n",
      "  %reload_ext autoreload\n"
     ]
    }
   ],
   "source": [
    "%load_ext autoreload\n",
    "%autoreload 2"
   ]
  },
  {
   "cell_type": "code",
   "execution_count": 8,
   "metadata": {},
   "outputs": [],
   "source": [
    "import pandas as pd\n",
    "import numpy as np\n",
    "import matplotlib.pyplot as plt\n",
    "\n",
    "from cofactor.model import LatticePredictor, ALL_FEATURES, OUTPUTS\n",
    "from cofactor.features import gen_non_linear\n",
    "from cofactor.calculator import CofactorCalculator as CC\n",
    "from cofactor.calculator import Lattice"
   ]
  },
  {
   "cell_type": "markdown",
   "metadata": {},
   "source": [
    "#### Data"
   ]
  },
  {
   "cell_type": "code",
   "execution_count": 11,
   "metadata": {},
   "outputs": [],
   "source": [
    "tetragonal = pd.read_csv('data/tetragonal.csv')\n",
    "tetragonal = tetragonal[tetragonal.Zr > 0]\n",
    "\n",
    "monoclinic = pd.read_csv('data/monoclinic.csv')\n",
    "monoclinic = monoclinic[monoclinic.Zr > 0]"
   ]
  },
  {
   "cell_type": "code",
   "execution_count": 12,
   "metadata": {},
   "outputs": [],
   "source": [
    "tetragonal, nonlinear = gen_non_linear(tetragonal, 2, ALL_FEATURES)\n",
    "monocinic, nonlinear = gen_non_linear(monoclinic, 2, ALL_FEATURES)"
   ]
  },
  {
   "cell_type": "code",
   "execution_count": 13,
   "metadata": {},
   "outputs": [],
   "source": [
    "tetragonal = tetragonal.rename(columns={'a': 'tetr_a', 'c': 'tetr_c'})\n",
    "monoclinic = monoclinic.rename(columns={'a': 'mono_a', 'b': 'mono_b', 'c': 'mono_c', 'beta': 'mono_beta'})"
   ]
  },
  {
   "cell_type": "code",
   "execution_count": 14,
   "metadata": {},
   "outputs": [],
   "source": [
    "df = pd.concat([tetragonal, monoclinic], sort=False, ignore_index=True)"
   ]
  },
  {
   "cell_type": "markdown",
   "metadata": {},
   "source": [
    "#### Model"
   ]
  },
  {
   "cell_type": "code",
   "execution_count": 15,
   "metadata": {},
   "outputs": [],
   "source": [
    "model = LatticePredictor.from_features(ALL_FEATURES + nonlinear)"
   ]
  },
  {
   "cell_type": "code",
   "execution_count": 16,
   "metadata": {},
   "outputs": [],
   "source": [
    "model.fit_df(df)"
   ]
  },
  {
   "cell_type": "code",
   "execution_count": 17,
   "metadata": {},
   "outputs": [],
   "source": [
    "model.save('models/nonlinear_model.pkl')"
   ]
  },
  {
   "cell_type": "markdown",
   "metadata": {},
   "source": [
    "### Stats on the model"
   ]
  },
  {
   "cell_type": "code",
   "execution_count": 18,
   "metadata": {},
   "outputs": [
    {
     "name": "stdout",
     "output_type": "stream",
     "text": [
      "    tetr_a   RMSE = 1.82e-02  R$^2$ = 0.67\n",
      "    tetr_c   RMSE = 2.67e-02  R$^2$ = 0.78\n",
      "    mono_a   RMSE = 1.12e-02  R$^2$ = 0.90\n",
      "    mono_b   RMSE = 3.16e-03  R$^2$ = 0.98\n",
      "    mono_c   RMSE = 1.80e-02  R$^2$ = 0.74\n",
      " mono_beta   RMSE = 1.40e-01  R$^2$ = 0.43\n"
     ]
    }
   ],
   "source": [
    "for output in model.outputs:\n",
    "    y = df[output].dropna()\n",
    "    X = df.loc[y.index, model.features]\n",
    "    print('{:>10}   RMSE = {:.2e}  R$^2$ = {:.2f}'.format(output, *model.get_stats(X, y, output)))"
   ]
  },
  {
   "cell_type": "markdown",
   "metadata": {},
   "source": [
    "### Data"
   ]
  },
  {
   "cell_type": "code",
   "execution_count": 94,
   "metadata": {},
   "outputs": [],
   "source": [
    "df.to_csv('data/lattices.csv')"
   ]
  },
  {
   "cell_type": "code",
   "execution_count": null,
   "metadata": {},
   "outputs": [],
   "source": []
  }
 ],
 "metadata": {
  "kernelspec": {
   "display_name": "Python 3",
   "language": "python",
   "name": "python3"
  },
  "language_info": {
   "codemirror_mode": {
    "name": "ipython",
    "version": 3
   },
   "file_extension": ".py",
   "mimetype": "text/x-python",
   "name": "python",
   "nbconvert_exporter": "python",
   "pygments_lexer": "ipython3",
   "version": "3.7.2"
  }
 },
 "nbformat": 4,
 "nbformat_minor": 2
}
