{
 "cells": [
  {
   "cell_type": "code",
   "execution_count": 2,
   "metadata": {},
   "outputs": [],
   "source": [
    "import pandas as pd\n",
    "import numpy as np\n",
    "from scipy import stats\n",
    "import matplotlib.pyplot as plt\n",
    "import itertools\n",
    "import tqdm\n",
    "import random"
   ]
  },
  {
   "cell_type": "markdown",
   "metadata": {},
   "source": [
    "### Data"
   ]
  },
  {
   "cell_type": "code",
   "execution_count": 3,
   "metadata": {},
   "outputs": [],
   "source": [
    "tetragonal = pd.read_csv('data/tetragonal.csv')\n",
    "tetragonal = tetragonal[tetragonal.Zr > 0]\n",
    "\n",
    "monoclinic = pd.read_csv('data/monoclinic.csv')\n",
    "monoclinic = monoclinic[monoclinic.Zr > 0]"
   ]
  },
  {
   "cell_type": "code",
   "execution_count": 4,
   "metadata": {},
   "outputs": [],
   "source": [
    "inputs = ['T']\n",
    "features = ['en_p', 'ea', 'valence', 'pettifor', 'rad_ionic', 'rad_slater', 'rad_clementi']\n",
    "outputs = ['a']"
   ]
  },
  {
   "cell_type": "code",
   "execution_count": 5,
   "metadata": {},
   "outputs": [],
   "source": [
    "nonlinear = []\n",
    "for f1, f2 in itertools.combinations_with_replacement(features, 2):\n",
    "    newfeature = f1 + '_' + f2\n",
    "    tetragonal[newfeature] = tetragonal[f1] * tetragonal[f2]\n",
    "    monoclinic[newfeature] = monoclinic[f1] * monoclinic[f2]\n",
    "\n",
    "    nonlinear.append(newfeature)"
   ]
  },
  {
   "cell_type": "markdown",
   "metadata": {},
   "source": [
    "### ML"
   ]
  },
  {
   "cell_type": "code",
   "execution_count": 6,
   "metadata": {},
   "outputs": [],
   "source": [
    "from sklearn.linear_model import LinearRegression, BayesianRidge\n",
    "from sklearn.model_selection import train_test_split\n",
    "from sklearn.metrics import mean_squared_error"
   ]
  },
  {
   "cell_type": "code",
   "execution_count": 7,
   "metadata": {
    "scrolled": false
   },
   "outputs": [],
   "source": [
    "def get_stats(y_true, y_pred):\n",
    "    rmse = np.sqrt(mean_squared_error(y_true, y_pred))\n",
    "    rsq, _ = stats.pearsonr(y_true, y_pred)\n",
    "    \n",
    "    return rmse, rsq\n",
    "    \n",
    "def plot_test(ax, reg, Xt, yt, unit='Å', color_temperature=True):   \n",
    "    if color_temperature:\n",
    "        color = Xt[:, 0]\n",
    "    else:\n",
    "        color = '#ff7f0e'\n",
    "\n",
    "    y_pred = reg.predict(Xt)\n",
    "    ax.scatter(yt, y_pred, alpha=0.6, c=color, cmap='plasma')\n",
    "\n",
    "    rmse, rsq = get_stats(yt, y_pred)\n",
    "\n",
    "    lim_min = min(np.min(yt), np.min(y_pred))\n",
    "    lim_max = max(np.max(yt), np.max(y_pred))\n",
    "    lims = (lim_min, lim_max)\n",
    "\n",
    "    ax.plot(lims, lims, 'k', zorder=-1)\n",
    "\n",
    "    ax.annotate(\n",
    "        'RMSE = %.2e %s\\nR$^2$ = %.2f' % (rmse, unit, rsq),\n",
    "        (0.05, 0.96),\n",
    "        xycoords='axes fraction',\n",
    "        va='top',\n",
    "        fontsize=12\n",
    "    )\n",
    "\n",
    "    ax.set_xlim(lims)\n",
    "    ax.set_ylim(lims)\n",
    "    return ax\n",
    "    \n",
    "    \n",
    "def plot_train_test(reg, Xr, Xt, yr, yt, unit='Å', figtitle=''):\n",
    "    fig, ax_fig = plt.subplots(1, 2, figsize=(8, 4))\n",
    "\n",
    "    for idx, (title, color, x_plot, y_plot) in enumerate(zip(\n",
    "        ['train', 'test'],\n",
    "        ['#1f77b4', '#ff7f0e'],\n",
    "        [Xr, Xt],\n",
    "        [yr, yt]\n",
    "    )):\n",
    "        ax = ax_fig[idx]\n",
    "\n",
    "        y_pred = reg.predict(x_plot)\n",
    "        ax.scatter(y_plot, y_pred, alpha=0.6, c=color)\n",
    "\n",
    "        rmse, rsq = get_stats(y_plot, y_pred)\n",
    "\n",
    "        lim_min = min(np.min(y_plot), np.min(y_plot))\n",
    "        lim_max = max(np.max(y_plot), np.max(y_plot))\n",
    "        lims = (lim_min, lim_max)\n",
    "\n",
    "        ax.plot(lims, lims, 'k', zorder=-1)\n",
    "\n",
    "        ax.annotate(\n",
    "            'RMSE = %.2e %s\\nR$^2$ = %.2f' % (rmse, unit, rsq),\n",
    "            (0.05, 0.96),\n",
    "            xycoords='axes fraction',\n",
    "            va='top',\n",
    "            fontsize=12\n",
    "        )\n",
    "\n",
    "        ax.set_xlabel(f'True lattice parameter ({unit})', fontsize=12)\n",
    "\n",
    "        if idx == 0:\n",
    "            ax.set_ylabel(f'Predicted lattice parameter ({unit})', fontsize=12)\n",
    "\n",
    "        ax.set_title(title)\n",
    "\n",
    "        ax.set_xlim(lims)\n",
    "        ax.set_ylim(lims)\n",
    "    \n",
    "    fig.suptitle(figtitle)\n",
    "    plt.show()"
   ]
  },
  {
   "cell_type": "code",
   "execution_count": 8,
   "metadata": {},
   "outputs": [],
   "source": [
    "inputs = ['T']\n",
    "\n",
    "def get_model(features, output, df):\n",
    "    X = df[inputs + features].values\n",
    "    y = df[output].values.reshape(-1)\n",
    "    Xr, Xt, yr, yt = train_test_split(X, y, test_size=0.3)\n",
    "    \n",
    "    reg  = BayesianRidge(compute_score=True)\n",
    "    reg.fit(Xr, yr)\n",
    "    \n",
    "    return reg, Xr, Xt, yr, yt"
   ]
  },
  {
   "cell_type": "code",
   "execution_count": 9,
   "metadata": {},
   "outputs": [],
   "source": [
    "features = ['en_p', 'ea', 'valence', 'pettifor', 'rad_ionic', 'rad_slater', 'rad_clementi']\n",
    "outputs_tetragonal = ['a', 'c']\n",
    "outputs_monoclinic = ['a', 'b', 'c', 'beta']"
   ]
  },
  {
   "cell_type": "markdown",
   "metadata": {},
   "source": [
    "### Features selection"
   ]
  },
  {
   "cell_type": "code",
   "execution_count": 10,
   "metadata": {},
   "outputs": [],
   "source": [
    "summary = pd.DataFrame(\n",
    "    columns=['features', 'parameter', 'rmse', 'rsq']\n",
    ")"
   ]
  },
  {
   "cell_type": "code",
   "execution_count": 11,
   "metadata": {},
   "outputs": [],
   "source": [
    "NRUNS = 50\n",
    "\n",
    "for linearity, feat in zip(['linear', 'nonlinear'], [features, features + nonlinear]):\n",
    "\n",
    "    for _ in range(NRUNS):\n",
    "        for df, lattice, outputs in zip(\n",
    "            [tetragonal, monoclinic],\n",
    "            ['tetragonal', 'monoclinic'],\n",
    "            [outputs_tetragonal, outputs_monoclinic],\n",
    "        ):\n",
    "\n",
    "            for output in outputs:\n",
    "                reg, Xr, Xt, yr, yt = get_model(list(feat), output, df)\n",
    "\n",
    "                rmse, rsq = get_stats(yt, reg.predict(Xt))\n",
    "\n",
    "                summary = summary.append({\n",
    "                    'features': linearity,\n",
    "                    'parameter': '%s_%s' % (lattice, output),\n",
    "                    'rmse': rmse,\n",
    "                    'rsq': rsq\n",
    "                }, ignore_index=True)"
   ]
  },
  {
   "cell_type": "code",
   "execution_count": 12,
   "metadata": {},
   "outputs": [],
   "source": [
    "fsummary = summary.groupby(['features', 'parameter']).mean()['rmse'].unstack()\n",
    "fsummary_rsq = summary.groupby(['features', 'parameter']).mean()['rsq'].unstack()"
   ]
  },
  {
   "cell_type": "code",
   "execution_count": 13,
   "metadata": {},
   "outputs": [
    {
     "data": {
      "text/html": [
       "<div>\n",
       "<style scoped>\n",
       "    .dataframe tbody tr th:only-of-type {\n",
       "        vertical-align: middle;\n",
       "    }\n",
       "\n",
       "    .dataframe tbody tr th {\n",
       "        vertical-align: top;\n",
       "    }\n",
       "\n",
       "    .dataframe thead th {\n",
       "        text-align: right;\n",
       "    }\n",
       "</style>\n",
       "<table border=\"1\" class=\"dataframe\">\n",
       "  <thead>\n",
       "    <tr style=\"text-align: right;\">\n",
       "      <th>parameter</th>\n",
       "      <th>monoclinic_a</th>\n",
       "      <th>monoclinic_b</th>\n",
       "      <th>monoclinic_beta</th>\n",
       "      <th>monoclinic_c</th>\n",
       "      <th>tetragonal_a</th>\n",
       "      <th>tetragonal_c</th>\n",
       "    </tr>\n",
       "    <tr>\n",
       "      <th>features</th>\n",
       "      <th></th>\n",
       "      <th></th>\n",
       "      <th></th>\n",
       "      <th></th>\n",
       "      <th></th>\n",
       "      <th></th>\n",
       "    </tr>\n",
       "  </thead>\n",
       "  <tbody>\n",
       "    <tr>\n",
       "      <th>linear</th>\n",
       "      <td>0.004173</td>\n",
       "      <td>0.005651</td>\n",
       "      <td>0.062861</td>\n",
       "      <td>0.004467</td>\n",
       "      <td>0.004616</td>\n",
       "      <td>0.005968</td>\n",
       "    </tr>\n",
       "    <tr>\n",
       "      <th>nonlinear</th>\n",
       "      <td>0.004073</td>\n",
       "      <td>0.007105</td>\n",
       "      <td>0.065346</td>\n",
       "      <td>0.005588</td>\n",
       "      <td>0.003539</td>\n",
       "      <td>0.005150</td>\n",
       "    </tr>\n",
       "  </tbody>\n",
       "</table>\n",
       "</div>"
      ],
      "text/plain": [
       "parameter  monoclinic_a  monoclinic_b  monoclinic_beta  monoclinic_c  \\\n",
       "features                                                               \n",
       "linear         0.004173      0.005651         0.062861      0.004467   \n",
       "nonlinear      0.004073      0.007105         0.065346      0.005588   \n",
       "\n",
       "parameter  tetragonal_a  tetragonal_c  \n",
       "features                               \n",
       "linear         0.004616      0.005968  \n",
       "nonlinear      0.003539      0.005150  "
      ]
     },
     "execution_count": 13,
     "metadata": {},
     "output_type": "execute_result"
    }
   ],
   "source": [
    "fsummary"
   ]
  },
  {
   "cell_type": "code",
   "execution_count": 14,
   "metadata": {},
   "outputs": [
    {
     "data": {
      "image/png": "[encoded data removed]",
      "text/plain": [
       "<Figure size 360x216 with 2 Axes>"
      ]
     },
     "metadata": {
      "needs_background": "light"
     },
     "output_type": "display_data"
    }
   ],
   "source": [
    "fig, ax = plt.subplots(figsize=(5, 3))\n",
    "means = summary.groupby('parameter').mean().drop('monoclinic_beta')\n",
    "errors = summary.groupby('parameter').std().drop('monoclinic_beta') / np.sqrt(NRUNS)\n",
    "\n",
    "width=0.3\n",
    "cax = '#1f77b4'\n",
    "ctax = '#d62728'\n",
    "\n",
    "p1 = means['rmse'].plot.bar(\n",
    "    yerr=errors['rmse'],\n",
    "    capsize=3,\n",
    "    ax=ax,\n",
    "    position=1,\n",
    "    width=width,\n",
    "    color=cax\n",
    ")\n",
    "\n",
    "ax.set_xticklabels(ax.get_xticklabels(), rotation=45, ha='right')\n",
    "ax.set_xlabel('')\n",
    "ax.set_ylabel('RMSE (Å)')\n",
    "\n",
    "tax = ax.twinx()\n",
    "p2 = means['rsq'].plot.bar(\n",
    "    yerr=errors['rsq'],\n",
    "    capsize=3,\n",
    "    ax=tax,\n",
    "    position=0,\n",
    "    width=width,\n",
    "    color=ctax\n",
    ")\n",
    "tax.set_ylabel('R$^2$')\n",
    "\n",
    "ax.set_xlim(left=-0.6)\n",
    "\n",
    "for ax_, color in zip([ax, tax], [cax, ctax]):\n",
    "    ax_.yaxis.label.set_color(color)\n",
    "    ax_.spines[\"right\"].set_edgecolor(color)\n",
    "    ax_.tick_params(axis='y', colors=color)\n",
    "\n",
    "plt.show()"
   ]
  },
  {
   "cell_type": "code",
   "execution_count": 38,
   "metadata": {},
   "outputs": [
    {
     "data": {
      "text/plain": [
       "features   parameter      \n",
       "linear     monoclinic_a       0.004190\n",
       "           monoclinic_b       0.005209\n",
       "           monoclinic_beta    0.062345\n",
       "           monoclinic_c       0.004745\n",
       "           tetragonal_a       0.004678\n",
       "           tetragonal_c       0.006186\n",
       "nonlinear  monoclinic_a       0.003850\n",
       "           monoclinic_b       0.003994\n",
       "           monoclinic_beta    0.062901\n",
       "           monoclinic_c       0.005124\n",
       "           tetragonal_a       0.003624\n",
       "           tetragonal_c       0.005443\n",
       "Name: rmse, dtype: float64"
      ]
     },
     "execution_count": 38,
     "metadata": {},
     "output_type": "execute_result"
    }
   ],
   "source": [
    "summary.groupby(['features', 'parameter']).mean()['rmse']"
   ]
  },
  {
   "cell_type": "code",
   "execution_count": 41,
   "metadata": {},
   "outputs": [
    {
     "data": {
      "text/plain": [
       "Text(0, 0.5, 'RMSE (Å)')"
      ]
     },
     "execution_count": 41,
     "metadata": {},
     "output_type": "execute_result"
    },
    {
     "data": {
      "image/png": "[encoded data removed]",
      "text/plain": [
       "<Figure size 360x216 with 1 Axes>"
      ]
     },
     "metadata": {
      "needs_background": "light"
     },
     "output_type": "display_data"
    }
   ],
   "source": [
    "fig, ax = plt.subplots(figsize=(5, 3))\n",
    "means = summary.groupby(['features', 'parameter']).mean()['rmse']\n",
    "errors = summary.groupby(['features', 'parameter']).std()['rmse'] / np.sqrt(NRUNS)\n",
    "\n",
    "width=0.3\n",
    "lin_color = '#1f77b4'\n",
    "nonlin_color = '#d62728'\n",
    "\n",
    "p1 = means['linear'].drop('monoclinic_beta').plot.bar(\n",
    "    yerr=errors['linear'].drop('monoclinic_beta'),\n",
    "    capsize=3,\n",
    "    ax=ax,\n",
    "    position=1,\n",
    "    width=width,\n",
    "    color=cax\n",
    ")\n",
    "\n",
    "p2 = means['nonlinear'].drop('monoclinic_beta').plot.bar(\n",
    "    yerr=errors['nonlinear'].drop('monoclinic_beta'),\n",
    "    capsize=3,\n",
    "    ax=ax,\n",
    "    position=0,\n",
    "    width=width,\n",
    "    color=ctax\n",
    ")\n",
    "\n",
    "ax.set_xticklabels(ax.get_xticklabels(), rotation=45, ha='right')\n",
    "ax.set_xlabel('')\n",
    "ax.set_ylabel('RMSE (Å)')\n",
    "\n",
    "# tax = ax.twinx()\n",
    "# p2 = means['rsq'].plot.bar(\n",
    "#     yerr=errors['rsq'],\n",
    "#     capsize=3,\n",
    "#     ax=tax,\n",
    "#     position=0,\n",
    "#     width=width,\n",
    "#     color=ctax\n",
    "# )\n",
    "# tax.set_ylabel('R$^2$')\n",
    "\n",
    "# ax.set_xlim(left=-0.6)\n",
    "\n",
    "# for ax_, color in zip([ax, tax], [cax, ctax]):\n",
    "#     ax_.yaxis.label.set_color(color)\n",
    "#     ax_.spines[\"right\"].set_edgecolor(color)\n",
    "#     ax_.tick_params(axis='y', colors=color)\n",
    "\n",
    "# plt.show()"
   ]
  }
 ],
 "metadata": {
  "kernelspec": {
   "display_name": "Python 3",
   "language": "python",
   "name": "python3"
  },
  "language_info": {
   "codemirror_mode": {
    "name": "ipython",
    "version": 3
   },
   "file_extension": ".py",
   "mimetype": "text/x-python",
   "name": "python",
   "nbconvert_exporter": "python",
   "pygments_lexer": "ipython3",
   "version": "3.7.2"
  }
 },
 "nbformat": 4,
 "nbformat_minor": 2
}
