{
 "cells": [
  {
   "cell_type": "code",
   "execution_count": 1,
   "metadata": {},
   "outputs": [],
   "source": [
    "import pandas as pd\n",
    "import numpy as np\n",
    "import matplotlib.pyplot as plt"
   ]
  },
  {
   "cell_type": "code",
   "execution_count": 46,
   "metadata": {},
   "outputs": [],
   "source": [
    "data = pd.read_csv('ICSD/ZrO2.txt', sep='\\t')"
   ]
  },
  {
   "cell_type": "code",
   "execution_count": 47,
   "metadata": {},
   "outputs": [],
   "source": [
    "data = data.drop(['MeasuredDensity', 'Unnamed: 10'], axis=1)"
   ]
  },
  {
   "cell_type": "code",
   "execution_count": 48,
   "metadata": {},
   "outputs": [
    {
     "data": {
      "text/html": [
       "<div>\n",
       "<style scoped>\n",
       "    .dataframe tbody tr th:only-of-type {\n",
       "        vertical-align: middle;\n",
       "    }\n",
       "\n",
       "    .dataframe tbody tr th {\n",
       "        vertical-align: top;\n",
       "    }\n",
       "\n",
       "    .dataframe thead th {\n",
       "        text-align: right;\n",
       "    }\n",
       "</style>\n",
       "<table border=\"1\" class=\"dataframe\">\n",
       "  <thead>\n",
       "    <tr style=\"text-align: right;\">\n",
       "      <th></th>\n",
       "      <th>CollectionCode</th>\n",
       "      <th>StructuredFormula</th>\n",
       "      <th>StructureType</th>\n",
       "      <th>Reference</th>\n",
       "      <th>StandardisedCellParameter</th>\n",
       "      <th>FormulaUnitsPerCell</th>\n",
       "      <th>Temperature</th>\n",
       "      <th>Pressure</th>\n",
       "      <th>SumFormula</th>\n",
       "    </tr>\n",
       "  </thead>\n",
       "  <tbody>\n",
       "    <tr>\n",
       "      <th>0</th>\n",
       "      <td>66781</td>\n",
       "      <td>Zr O2</td>\n",
       "      <td>Zirconia-ZrO2(HT)</td>\n",
       "      <td>Journal of Materials Science (1995) 30, (*) p1...</td>\n",
       "      <td>3.5960 3.5960 5.1841 90.000 90.000 90.000</td>\n",
       "      <td>2</td>\n",
       "      <td>293.0</td>\n",
       "      <td>0.101325</td>\n",
       "      <td>O2 Zr1</td>\n",
       "    </tr>\n",
       "    <tr>\n",
       "      <th>1</th>\n",
       "      <td>66782</td>\n",
       "      <td>Zr O2</td>\n",
       "      <td>Zirconia-ZrO2(HT)</td>\n",
       "      <td>Journal of Materials Science (1995) 30, (*) p1...</td>\n",
       "      <td>3.5958 3.5958 5.1844 90.000 90.000 90.000</td>\n",
       "      <td>2</td>\n",
       "      <td>293.0</td>\n",
       "      <td>0.101325</td>\n",
       "      <td>O2 Zr1</td>\n",
       "    </tr>\n",
       "    <tr>\n",
       "      <th>2</th>\n",
       "      <td>66783</td>\n",
       "      <td>Zr O2</td>\n",
       "      <td>Zirconia-ZrO2(HT)</td>\n",
       "      <td>Journal of Materials Science (1995) 30, (*) p1...</td>\n",
       "      <td>3.5957 3.5957 5.1844 90.000 90.000 90.000</td>\n",
       "      <td>2</td>\n",
       "      <td>293.0</td>\n",
       "      <td>0.101325</td>\n",
       "      <td>O2 Zr1</td>\n",
       "    </tr>\n",
       "  </tbody>\n",
       "</table>\n",
       "</div>"
      ],
      "text/plain": [
       "   CollectionCode StructuredFormula      StructureType  \\\n",
       "0           66781             Zr O2  Zirconia-ZrO2(HT)   \n",
       "1           66782             Zr O2  Zirconia-ZrO2(HT)   \n",
       "2           66783             Zr O2  Zirconia-ZrO2(HT)   \n",
       "\n",
       "                                           Reference  \\\n",
       "0  Journal of Materials Science (1995) 30, (*) p1...   \n",
       "1  Journal of Materials Science (1995) 30, (*) p1...   \n",
       "2  Journal of Materials Science (1995) 30, (*) p1...   \n",
       "\n",
       "                   StandardisedCellParameter  FormulaUnitsPerCell  \\\n",
       "0  3.5960 3.5960 5.1841 90.000 90.000 90.000                    2   \n",
       "1  3.5958 3.5958 5.1844 90.000 90.000 90.000                    2   \n",
       "2  3.5957 3.5957 5.1844 90.000 90.000 90.000                    2   \n",
       "\n",
       "   Temperature  Pressure SumFormula  \n",
       "0        293.0  0.101325     O2 Zr1  \n",
       "1        293.0  0.101325     O2 Zr1  \n",
       "2        293.0  0.101325     O2 Zr1  "
      ]
     },
     "execution_count": 48,
     "metadata": {},
     "output_type": "execute_result"
    }
   ],
   "source": [
    "data.head(3)"
   ]
  },
  {
   "cell_type": "markdown",
   "metadata": {},
   "source": [
    "## Creating a new dataframe with the relevant data"
   ]
  },
  {
   "cell_type": "code",
   "execution_count": 50,
   "metadata": {},
   "outputs": [],
   "source": [
    "df = data.copy()[['CollectionCode', 'StandardisedCellParameter', 'FormulaUnitsPerCell', 'Temperature', 'Pressure', 'SumFormula']]"
   ]
  },
  {
   "cell_type": "code",
   "execution_count": 55,
   "metadata": {},
   "outputs": [],
   "source": [
    "def get_abc_from_cellparam(parameters):\n",
    "    splitpar = [float(x) for x in parameters.split(' ')]\n",
    "    return splitpar[0:3]\n",
    "\n",
    "def set_abc(df):\n",
    "    a, b, c = [], [], []\n",
    "    for idx, row in df.iterrows():\n",
    "        a_, b_, c_ = get_abc_from_cellparam(row.StandardisedCellParameter)\n",
    "        a.append(a_)\n",
    "        b.append(b_)\n",
    "        c.append(c_)\n",
    "    \n",
    "    df['a'] = a\n",
    "    df['b'] = b\n",
    "    df['c'] = c\n",
    "    \n",
    "    df = df.drop('StandardisedCellParameter', axis=1)\n",
    "    return df    "
   ]
  },
  {
   "cell_type": "code",
   "execution_count": 57,
   "metadata": {},
   "outputs": [],
   "source": [
    "df = set_abc(df)"
   ]
  },
  {
   "cell_type": "markdown",
   "metadata": {},
   "source": [
    "## Finding error bars: lattice parameters at ambient temperature/pressure"
   ]
  },
  {
   "cell_type": "code",
   "execution_count": 58,
   "metadata": {},
   "outputs": [],
   "source": [
    "room_temp = np.bitwise_and.reduce([\n",
    "    np.abs(df['Temperature'].values - 293) < 10,\n",
    "    np.abs(df['Pressure'].values - 0.101325) < 0.01,\n",
    "    df['SumFormula'] == 'O2 Zr1'\n",
    "])"
   ]
  },
  {
   "cell_type": "code",
   "execution_count": 62,
   "metadata": {},
   "outputs": [
    {
     "data": {
      "text/html": [
       "<div>\n",
       "<style scoped>\n",
       "    .dataframe tbody tr th:only-of-type {\n",
       "        vertical-align: middle;\n",
       "    }\n",
       "\n",
       "    .dataframe tbody tr th {\n",
       "        vertical-align: top;\n",
       "    }\n",
       "\n",
       "    .dataframe thead th {\n",
       "        text-align: right;\n",
       "    }\n",
       "</style>\n",
       "<table border=\"1\" class=\"dataframe\">\n",
       "  <thead>\n",
       "    <tr style=\"text-align: right;\">\n",
       "      <th></th>\n",
       "      <th>a</th>\n",
       "      <th>b</th>\n",
       "      <th>c</th>\n",
       "    </tr>\n",
       "  </thead>\n",
       "  <tbody>\n",
       "    <tr>\n",
       "      <th>count</th>\n",
       "      <td>22.000000</td>\n",
       "      <td>22.000000</td>\n",
       "      <td>22.000000</td>\n",
       "    </tr>\n",
       "    <tr>\n",
       "      <th>mean</th>\n",
       "      <td>3.600345</td>\n",
       "      <td>3.600345</td>\n",
       "      <td>5.183936</td>\n",
       "    </tr>\n",
       "    <tr>\n",
       "      <th>std</th>\n",
       "      <td>0.011476</td>\n",
       "      <td>0.011476</td>\n",
       "      <td>0.021621</td>\n",
       "    </tr>\n",
       "    <tr>\n",
       "      <th>min</th>\n",
       "      <td>3.591600</td>\n",
       "      <td>3.591600</td>\n",
       "      <td>5.152000</td>\n",
       "    </tr>\n",
       "    <tr>\n",
       "      <th>25%</th>\n",
       "      <td>3.595725</td>\n",
       "      <td>3.595725</td>\n",
       "      <td>5.177000</td>\n",
       "    </tr>\n",
       "    <tr>\n",
       "      <th>50%</th>\n",
       "      <td>3.596100</td>\n",
       "      <td>3.596100</td>\n",
       "      <td>5.182550</td>\n",
       "    </tr>\n",
       "    <tr>\n",
       "      <th>75%</th>\n",
       "      <td>3.600125</td>\n",
       "      <td>3.600125</td>\n",
       "      <td>5.184475</td>\n",
       "    </tr>\n",
       "    <tr>\n",
       "      <th>max</th>\n",
       "      <td>3.640000</td>\n",
       "      <td>3.640000</td>\n",
       "      <td>5.270000</td>\n",
       "    </tr>\n",
       "  </tbody>\n",
       "</table>\n",
       "</div>"
      ],
      "text/plain": [
       "               a          b          c\n",
       "count  22.000000  22.000000  22.000000\n",
       "mean    3.600345   3.600345   5.183936\n",
       "std     0.011476   0.011476   0.021621\n",
       "min     3.591600   3.591600   5.152000\n",
       "25%     3.595725   3.595725   5.177000\n",
       "50%     3.596100   3.596100   5.182550\n",
       "75%     3.600125   3.600125   5.184475\n",
       "max     3.640000   3.640000   5.270000"
      ]
     },
     "execution_count": 62,
     "metadata": {},
     "output_type": "execute_result"
    }
   ],
   "source": [
    "df[room_temp][['a', 'b', 'c']].describe()"
   ]
  },
  {
   "cell_type": "markdown",
   "metadata": {},
   "source": [
    "## Variation of the lattice parameters with respect to the temperature"
   ]
  },
  {
   "cell_type": "code",
   "execution_count": 44,
   "metadata": {},
   "outputs": [],
   "source": [
    "room_press = np.bitwise_and.reduce([\n",
    "    df['Temperature'].values > 200,\n",
    "    np.abs(df['Pressure'].values - 0.101325) < 0.01,\n",
    "    df['SumFormula'] == 'O2 Zr1'\n",
    "])"
   ]
  },
  {
   "cell_type": "code",
   "execution_count": 71,
   "metadata": {
    "scrolled": false
   },
   "outputs": [
    {
     "data": {
      "image/png": "[encoded data removed]",
      "text/plain": [
       "<Figure size 288x432 with 2 Axes>"
      ]
     },
     "metadata": {
      "needs_background": "light"
     },
     "output_type": "display_data"
    }
   ],
   "source": [
    "fig, ax_fig = plt.subplots(2, 1, figsize=(4, 6), sharex=True)\n",
    "\n",
    "for y, ax in zip(['a', 'c'], ax_fig):\n",
    "    df[room_press].sort_values(by='Temperature').plot(kind='scatter', x='Temperature', y=y, ax=ax)\n",
    "    ax.set_ylabel('%s (Å)' % y, fontsize=12)\n",
    "\n",
    "ax.set_xlabel('Temperature (K)')\n",
    "\n",
    "plt.show()"
   ]
  },
  {
   "cell_type": "code",
   "execution_count": 86,
   "metadata": {},
   "outputs": [],
   "source": [
    "df_temp = df[room_press][['a', 'c', 'Temperature']].groupby('Temperature').mean().reset_index().copy()"
   ]
  },
  {
   "cell_type": "code",
   "execution_count": 88,
   "metadata": {},
   "outputs": [
    {
     "data": {
      "text/plain": [
       "<matplotlib.axes._subplots.AxesSubplot at 0x1249fb898>"
      ]
     },
     "execution_count": 88,
     "metadata": {},
     "output_type": "execute_result"
    },
    {
     "data": {
      "image/png": "[encoded data removed]",
      "text/plain": [
       "<Figure size 432x288 with 1 Axes>"
      ]
     },
     "metadata": {
      "needs_background": "light"
     },
     "output_type": "display_data"
    }
   ],
   "source": [
    "df_temp.plot(kind='scatter', x='Temperature', y='a')"
   ]
  }
 ],
 "metadata": {
  "kernelspec": {
   "display_name": "Python 3",
   "language": "python",
   "name": "python3"
  },
  "language_info": {
   "codemirror_mode": {
    "name": "ipython",
    "version": 3
   },
   "file_extension": ".py",
   "mimetype": "text/x-python",
   "name": "python",
   "nbconvert_exporter": "python",
   "pygments_lexer": "ipython3",
   "version": "3.7.2"
  }
 },
 "nbformat": 4,
 "nbformat_minor": 2
}
