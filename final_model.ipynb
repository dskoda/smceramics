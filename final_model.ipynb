{
 "cells": [
  {
   "cell_type": "code",
   "execution_count": 1,
   "metadata": {},
   "outputs": [],
   "source": [
    "%load_ext autoreload\n",
    "%autoreload 2"
   ]
  },
  {
   "cell_type": "code",
   "execution_count": 11,
   "metadata": {},
   "outputs": [],
   "source": [
    "import pandas as pd\n",
    "import numpy as np\n",
    "import matplotlib.pyplot as plt\n",
    "\n",
    "from cofactor.model import LatticePredictor, FEATURES, OUTPUTS\n",
    "from cofactor.calculator import CofactorCalculator as CC\n",
    "from cofactor.calculator import Lattice"
   ]
  },
  {
   "cell_type": "code",
   "execution_count": 4,
   "metadata": {},
   "outputs": [],
   "source": [
    "model = LatticePredictor.from_features()"
   ]
  },
  {
   "cell_type": "code",
   "execution_count": 8,
   "metadata": {},
   "outputs": [],
   "source": [
    "tetragonal = pd.read_csv('data/tetragonal.csv')\n",
    "tetragonal = tetragonal[tetragonal.Zr > 0]\n",
    "\n",
    "monoclinic = pd.read_csv('data/monoclinic.csv')\n",
    "monoclinic = monoclinic[monoclinic.Zr > 0]"
   ]
  },
  {
   "cell_type": "code",
   "execution_count": 21,
   "metadata": {},
   "outputs": [],
   "source": [
    "tetragonal = tetragonal.rename(columns={'a': 'tetr_a', 'c': 'tetr_c'})\n",
    "monoclinic = monoclinic.rename(columns={'a': 'mono_a', 'b': 'mono_b', 'c': 'mono_c', 'beta': 'mono_beta'})"
   ]
  },
  {
   "cell_type": "code",
   "execution_count": 49,
   "metadata": {},
   "outputs": [],
   "source": [
    "df = pd.concat([tetragonal, monoclinic], sort=False, ignore_index=True)"
   ]
  },
  {
   "cell_type": "code",
   "execution_count": 54,
   "metadata": {},
   "outputs": [],
   "source": [
    "model.fit_df(df)"
   ]
  },
  {
   "cell_type": "code",
   "execution_count": 57,
   "metadata": {},
   "outputs": [],
   "source": [
    "model.save('models/model.pkl')"
   ]
  },
  {
   "cell_type": "markdown",
   "metadata": {},
   "source": [
    "### Stats on the model"
   ]
  },
  {
   "cell_type": "code",
   "execution_count": 78,
   "metadata": {},
   "outputs": [
    {
     "name": "stdout",
     "output_type": "stream",
     "text": [
      "tetr_a\t\tRMSE = 4.80e-03\tR$^2$ = 0.98\n",
      "tetr_c\t\tRMSE = 5.72e-03\tR$^2$ = 0.99\n",
      "mono_a\t\tRMSE = 3.69e-03\tR$^2$ = 0.99\n",
      "mono_b\t\tRMSE = 4.70e-03\tR$^2$ = 0.95\n",
      "mono_c\t\tRMSE = 4.28e-03\tR$^2$ = 0.99\n",
      "mono_beta\t\tRMSE = 5.79e-02\tR$^2$ = 0.93\n"
     ]
    }
   ],
   "source": [
    "for output in model.outputs:\n",
    "    y = df[output].dropna()\n",
    "    X = df.loc[y.index, model.features]\n",
    "    print('{:>10}   RMSE = {.2e}. R$^2$ = %.2f' % (output, *model.get_stats(X, y, output)))"
   ]
  },
  {
   "cell_type": "code",
   "execution_count": 74,
   "metadata": {},
   "outputs": [
    {
     "data": {
      "text/plain": [
       "(0.004801376780995447, 0.9804471705620592)"
      ]
     },
     "execution_count": 74,
     "metadata": {},
     "output_type": "execute_result"
    }
   ],
   "source": []
  }
 ],
 "metadata": {
  "kernelspec": {
   "display_name": "Python 3",
   "language": "python",
   "name": "python3"
  },
  "language_info": {
   "codemirror_mode": {
    "name": "ipython",
    "version": 3
   },
   "file_extension": ".py",
   "mimetype": "text/x-python",
   "name": "python",
   "nbconvert_exporter": "python",
   "pygments_lexer": "ipython3",
   "version": "3.7.2"
  }
 },
 "nbformat": 4,
 "nbformat_minor": 2
}
