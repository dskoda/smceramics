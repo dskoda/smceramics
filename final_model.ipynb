{
 "cells": [
  {
   "cell_type": "code",
   "execution_count": 1,
   "metadata": {},
   "outputs": [],
   "source": [
    "%load_ext autoreload\n",
    "%autoreload 2"
   ]
  },
  {
   "cell_type": "code",
   "execution_count": 2,
   "metadata": {},
   "outputs": [],
   "source": [
    "import pandas as pd\n",
    "import numpy as np\n",
    "import matplotlib.pyplot as plt\n",
    "\n",
    "from cofactor.model import LatticePredictor, FEATURES, OUTPUTS\n",
    "from cofactor.calculator import CofactorCalculator as CC\n",
    "from cofactor.calculator import Lattice"
   ]
  },
  {
   "cell_type": "code",
   "execution_count": 4,
   "metadata": {},
   "outputs": [],
   "source": [
    "model = LatticePredictor.from_features()"
   ]
  },
  {
   "cell_type": "code",
   "execution_count": 8,
   "metadata": {},
   "outputs": [],
   "source": [
    "tetragonal = pd.read_csv('data/tetragonal.csv')\n",
    "tetragonal = tetragonal[tetragonal.Zr > 0]\n",
    "\n",
    "monoclinic = pd.read_csv('data/monoclinic.csv')\n",
    "monoclinic = monoclinic[monoclinic.Zr > 0]"
   ]
  },
  {
   "cell_type": "code",
   "execution_count": 21,
   "metadata": {},
   "outputs": [],
   "source": [
    "tetragonal = tetragonal.rename(columns={'a': 'tetr_a', 'c': 'tetr_c'})\n",
    "monoclinic = monoclinic.rename(columns={'a': 'mono_a', 'b': 'mono_b', 'c': 'mono_c', 'beta': 'mono_beta'})"
   ]
  },
  {
   "cell_type": "code",
   "execution_count": 49,
   "metadata": {},
   "outputs": [],
   "source": [
    "df = pd.concat([tetragonal, monoclinic], sort=False, ignore_index=True)"
   ]
  },
  {
   "cell_type": "code",
   "execution_count": 54,
   "metadata": {},
   "outputs": [],
   "source": [
    "model.fit_df(df)"
   ]
  },
  {
   "cell_type": "code",
   "execution_count": 57,
   "metadata": {},
   "outputs": [],
   "source": [
    "model.save('models/model.pkl')"
   ]
  },
  {
   "cell_type": "markdown",
   "metadata": {},
   "source": [
    "### Stats on the model"
   ]
  },
  {
   "cell_type": "code",
   "execution_count": 81,
   "metadata": {},
   "outputs": [
    {
     "name": "stdout",
     "output_type": "stream",
     "text": [
      "    tetr_a   RMSE = 4.80e-03  R$^2$ = 0.98\n",
      "    tetr_c   RMSE = 5.72e-03  R$^2$ = 0.99\n",
      "    mono_a   RMSE = 3.69e-03  R$^2$ = 0.99\n",
      "    mono_b   RMSE = 4.70e-03  R$^2$ = 0.95\n",
      "    mono_c   RMSE = 4.28e-03  R$^2$ = 0.99\n",
      " mono_beta   RMSE = 5.79e-02  R$^2$ = 0.93\n"
     ]
    }
   ],
   "source": [
    "for output in model.outputs:\n",
    "    y = df[output].dropna()\n",
    "    X = df.loc[y.index, model.features]\n",
    "    print('{:>10}   RMSE = {:.2e}  R$^2$ = {:.2f}'.format(output, *model.get_stats(X, y, output)))"
   ]
  },
  {
   "cell_type": "markdown",
   "metadata": {},
   "source": [
    "### Data"
   ]
  },
  {
   "cell_type": "code",
   "execution_count": 94,
   "metadata": {},
   "outputs": [],
   "source": [
    "df.to_csv('data/lattices.csv')"
   ]
  },
  {
   "cell_type": "markdown",
   "metadata": {},
   "source": [
    "### Final equation"
   ]
  },
  {
   "cell_type": "code",
   "execution_count": 4,
   "metadata": {},
   "outputs": [
    {
     "name": "stderr",
     "output_type": "stream",
     "text": [
      "/Users/dskoda/packages/miniconda3/envs/dskoda/lib/python3.8/site-packages/sklearn/utils/deprecation.py:144: FutureWarning: The sklearn.linear_model.bayes module is  deprecated in version 0.22 and will be removed in version 0.24. The corresponding classes / functions should instead be imported from sklearn.linear_model. Anything that cannot be imported from sklearn.linear_model is now part of the private API.\n",
      "  warnings.warn(message, FutureWarning)\n",
      "/Users/dskoda/packages/miniconda3/envs/dskoda/lib/python3.8/site-packages/sklearn/base.py:313: UserWarning: Trying to unpickle estimator BayesianRidge from version 0.20.3 when using version 0.22.1. This might lead to breaking code or invalid results. Use at your own risk.\n",
      "  warnings.warn(\n"
     ]
    }
   ],
   "source": [
    "model = LatticePredictor.from_file('models/model.pkl')"
   ]
  },
  {
   "cell_type": "code",
   "execution_count": 17,
   "metadata": {},
   "outputs": [
    {
     "name": "stdout",
     "output_type": "stream",
     "text": [
      "tetr_a = 5.082e-05 T + -2.359e-02 en_p + 1.041e-01 ea + -4.797e-03 valence + 1.045e+00 rad_slater + 1.043e-03 rad_clementi\n",
      "tetr_c = 6.613e-05 T + 8.965e-01 en_p + -1.048e-01 ea + 6.072e-01 valence + 1.660e+00 rad_slater + 7.793e-02 rad_clementi\n",
      "mono_a = 3.903e-05 T + -2.353e-02 en_p + 1.152e-01 ea + -6.787e-02 valence + 1.643e+00 rad_slater + 6.993e-03 rad_clementi\n",
      "mono_b = 8.146e-06 T + -2.440e-01 en_p + 2.157e-01 ea + 1.074e-01 valence + 1.033e+00 rad_slater + 5.552e-01 rad_clementi\n",
      "mono_c = 6.348e-05 T + -1.041e-01 en_p + 7.283e-02 ea + 6.085e-02 valence + 8.917e-01 rad_slater + -5.223e-01 rad_clementi\n",
      "mono_beta = -4.632e-04 T + -3.007e+00 en_p + 5.013e-01 ea + 2.032e+00 valence + -2.137e+00 rad_slater + 6.040e+00 rad_clementi\n"
     ]
    }
   ],
   "source": [
    "for out, r in model._regressors.items():\n",
    "    equation = ' + '.join([\n",
    "        '%.3e %s' % (coef, feat)\n",
    "        for coef, feat in zip(r.coef_, model.features)\n",
    "    ])\n",
    "    print('%s = %s' % (out, equation))"
   ]
  },
  {
   "cell_type": "code",
   "execution_count": 19,
   "metadata": {},
   "outputs": [],
   "source": [
    "df = pd.DataFrame([r.coef_ for r in model._regressors.values()], index=model._regressors.keys(), columns=model.features)"
   ]
  },
  {
   "cell_type": "code",
   "execution_count": 20,
   "metadata": {},
   "outputs": [
    {
     "data": {
      "text/html": [
       "<div>\n",
       "<style scoped>\n",
       "    .dataframe tbody tr th:only-of-type {\n",
       "        vertical-align: middle;\n",
       "    }\n",
       "\n",
       "    .dataframe tbody tr th {\n",
       "        vertical-align: top;\n",
       "    }\n",
       "\n",
       "    .dataframe thead th {\n",
       "        text-align: right;\n",
       "    }\n",
       "</style>\n",
       "<table border=\"1\" class=\"dataframe\">\n",
       "  <thead>\n",
       "    <tr style=\"text-align: right;\">\n",
       "      <th></th>\n",
       "      <th>T</th>\n",
       "      <th>en_p</th>\n",
       "      <th>ea</th>\n",
       "      <th>valence</th>\n",
       "      <th>rad_slater</th>\n",
       "      <th>rad_clementi</th>\n",
       "    </tr>\n",
       "  </thead>\n",
       "  <tbody>\n",
       "    <tr>\n",
       "      <th>tetr_a</th>\n",
       "      <td>0.000051</td>\n",
       "      <td>-0.023591</td>\n",
       "      <td>0.104057</td>\n",
       "      <td>-0.004797</td>\n",
       "      <td>1.045149</td>\n",
       "      <td>0.001043</td>\n",
       "    </tr>\n",
       "    <tr>\n",
       "      <th>tetr_c</th>\n",
       "      <td>0.000066</td>\n",
       "      <td>0.896460</td>\n",
       "      <td>-0.104800</td>\n",
       "      <td>0.607161</td>\n",
       "      <td>1.660068</td>\n",
       "      <td>0.077934</td>\n",
       "    </tr>\n",
       "    <tr>\n",
       "      <th>mono_a</th>\n",
       "      <td>0.000039</td>\n",
       "      <td>-0.023528</td>\n",
       "      <td>0.115172</td>\n",
       "      <td>-0.067867</td>\n",
       "      <td>1.643379</td>\n",
       "      <td>0.006993</td>\n",
       "    </tr>\n",
       "    <tr>\n",
       "      <th>mono_b</th>\n",
       "      <td>0.000008</td>\n",
       "      <td>-0.243959</td>\n",
       "      <td>0.215683</td>\n",
       "      <td>0.107374</td>\n",
       "      <td>1.032506</td>\n",
       "      <td>0.555161</td>\n",
       "    </tr>\n",
       "    <tr>\n",
       "      <th>mono_c</th>\n",
       "      <td>0.000063</td>\n",
       "      <td>-0.104093</td>\n",
       "      <td>0.072826</td>\n",
       "      <td>0.060852</td>\n",
       "      <td>0.891702</td>\n",
       "      <td>-0.522294</td>\n",
       "    </tr>\n",
       "    <tr>\n",
       "      <th>mono_beta</th>\n",
       "      <td>-0.000463</td>\n",
       "      <td>-3.007386</td>\n",
       "      <td>0.501284</td>\n",
       "      <td>2.032031</td>\n",
       "      <td>-2.137021</td>\n",
       "      <td>6.039688</td>\n",
       "    </tr>\n",
       "  </tbody>\n",
       "</table>\n",
       "</div>"
      ],
      "text/plain": [
       "                  T      en_p        ea   valence  rad_slater  rad_clementi\n",
       "tetr_a     0.000051 -0.023591  0.104057 -0.004797    1.045149      0.001043\n",
       "tetr_c     0.000066  0.896460 -0.104800  0.607161    1.660068      0.077934\n",
       "mono_a     0.000039 -0.023528  0.115172 -0.067867    1.643379      0.006993\n",
       "mono_b     0.000008 -0.243959  0.215683  0.107374    1.032506      0.555161\n",
       "mono_c     0.000063 -0.104093  0.072826  0.060852    0.891702     -0.522294\n",
       "mono_beta -0.000463 -3.007386  0.501284  2.032031   -2.137021      6.039688"
      ]
     },
     "execution_count": 20,
     "metadata": {},
     "output_type": "execute_result"
    }
   ],
   "source": [
    "df"
   ]
  }
 ],
 "metadata": {
  "kernelspec": {
   "display_name": "Python 3",
   "language": "python",
   "name": "python3"
  },
  "language_info": {
   "codemirror_mode": {
    "name": "ipython",
    "version": 3
   },
   "file_extension": ".py",
   "mimetype": "text/x-python",
   "name": "python",
   "nbconvert_exporter": "python",
   "pygments_lexer": "ipython3",
   "version": "3.8.2"
  }
 },
 "nbformat": 4,
 "nbformat_minor": 2
}
