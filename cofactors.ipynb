{
 "cells": [
  {
   "cell_type": "code",
   "execution_count": 36,
   "metadata": {},
   "outputs": [
    {
     "name": "stdout",
     "output_type": "stream",
     "text": [
      "The autoreload extension is already loaded. To reload it, use:\n",
      "  %reload_ext autoreload\n"
     ]
    }
   ],
   "source": [
    "%load_ext autoreload\n",
    "%autoreload 2\n",
    "%matplotlib inline"
   ]
  },
  {
   "cell_type": "code",
   "execution_count": 37,
   "metadata": {},
   "outputs": [],
   "source": [
    "import pandas as pd\n",
    "import numpy as np\n",
    "import matplotlib.pyplot as plt\n",
    "\n",
    "from cofactor.features import Features\n",
    "from cofactor.model import LatticePredictor\n",
    "from cofactor.calculator import CofactorCalculator"
   ]
  },
  {
   "cell_type": "code",
   "execution_count": 3,
   "metadata": {},
   "outputs": [],
   "source": [
    "featgen = Features.from_excel('data/elemental.xlsx')\n",
    "model = LatticePredictor.from_file('models/model.pkl')\n",
    "data = pd.read_csv('data/lattices.csv', index_col=0)"
   ]
  },
  {
   "cell_type": "code",
   "execution_count": 52,
   "metadata": {},
   "outputs": [],
   "source": [
    "temperatures = [25]\n",
    "\n",
    "x_cerium = np.linspace(0.12, 0.15, 40).reshape(-1, 1)\n",
    "inputs = {'Ce': x_cerium, 'Zr': 1 - x_cerium, 'T': 25}\n",
    "\n",
    "X = featgen.get_features(inputs, model.features)"
   ]
  },
  {
   "cell_type": "code",
   "execution_count": 66,
   "metadata": {},
   "outputs": [],
   "source": [
    "example_eddie = np.array([\n",
    "    [11.393534002229654, 470.7213578500707],\n",
    "    [12.508361204013376, 348.5148514851487],\n",
    "    [12.909698996655514, 300.9900990099011],\n",
    "    [13.444816053511701, 178.78359264497885],\n",
    "    [13.846153846153847, 20.367751060820638],\n",
    "])\n",
    "\n",
    "cofactors_eddie = np.array([\n",
    "    [12.497816164285508, 0.9977867711289287],\n",
    "    [13.000483412177577, 0.9981617632840819],\n",
    "    [13.498258868069184, 0.9990191227680352]\n",
    "])"
   ]
  },
  {
   "cell_type": "code",
   "execution_count": 59,
   "metadata": {},
   "outputs": [],
   "source": [
    "inputs = {\n",
    "    'Ce': example_eddie[:, 0].reshape(-1, 1) / 100,\n",
    "    'Zr': 1 - example_eddie[:, 0].reshape(-1, 1) / 100,\n",
    "    'T': example_eddie[:, 1].reshape(-1, 1)\n",
    "}\n",
    "X = featgen.get_features(inputs, model.features)"
   ]
  },
  {
   "cell_type": "code",
   "execution_count": 61,
   "metadata": {},
   "outputs": [],
   "source": [
    "cofactors = []\n",
    "for tetr, mono in model.predict_lattice(X[model.features]):\n",
    "    calc = CofactorCalculator(tetr, mono)\n",
    "    cofactors.append(calc.get_cofactors())"
   ]
  },
  {
   "cell_type": "code",
   "execution_count": 62,
   "metadata": {},
   "outputs": [],
   "source": [
    "results = pd.concat([X, pd.DataFrame(cofactors)], axis=1)"
   ]
  },
  {
   "cell_type": "code",
   "execution_count": 88,
   "metadata": {},
   "outputs": [
    {
     "data": {
      "image/png": "[encoded data removed]",
      "text/plain": [
       "<Figure size 432x288 with 1 Axes>"
      ]
     },
     "metadata": {
      "needs_background": "light"
     },
     "output_type": "display_data"
    }
   ],
   "source": [
    "fig, ax = plt.subplots(figsize=(6, 4))\n",
    "\n",
    "results.plot(x='Ce', y='B', ax=ax, color='#d62728', label='prediction')\n",
    "ax.scatter(cofactors_eddie[:, 0] / 100, cofactors_eddie[:, 1], marker='o', label='Eddie')\n",
    "\n",
    "ax.set_ylim(0.995, 1.001)\n",
    "ax.set_xlim(0.12, 0.1375)\n",
    "# ax.get_legend().remove()\n",
    "\n",
    "ax.set_ylabel(r'$\\lambda_2$', fontsize=14)\n",
    "ax.set_xlabel(r'mol CeO$_2$', fontsize=14)\n",
    "\n",
    "plt.show()"
   ]
  },
  {
   "cell_type": "code",
   "execution_count": null,
   "metadata": {},
   "outputs": [],
   "source": []
  }
 ],
 "metadata": {
  "kernelspec": {
   "display_name": "Python 3",
   "language": "python",
   "name": "python3"
  },
  "language_info": {
   "codemirror_mode": {
    "name": "ipython",
    "version": 3
   },
   "file_extension": ".py",
   "mimetype": "text/x-python",
   "name": "python",
   "nbconvert_exporter": "python",
   "pygments_lexer": "ipython3",
   "version": "3.7.2"
  }
 },
 "nbformat": 4,
 "nbformat_minor": 2
}
